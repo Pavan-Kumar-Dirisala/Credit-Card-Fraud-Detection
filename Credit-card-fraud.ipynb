{
 "cells": [
  {
   "cell_type": "code",
   "execution_count": 106,
   "id": "33596d6b",
   "metadata": {},
   "outputs": [],
   "source": [
    "import pandas as pd\n",
    "import numpy as np\n",
    "from sklearn.model_selection import train_test_split\n",
    "from sklearn.preprocessing import StandardScaler, LabelEncoder\n",
    "from sklearn.linear_model import LogisticRegression\n",
    "from sklearn.tree import DecisionTreeClassifier\n",
    "from sklearn.ensemble import RandomForestClassifier\n",
    "from sklearn.metrics import classification_report, confusion_matrix, roc_auc_score\n",
    "from imblearn.over_sampling import SMOTE\n",
    "import warnings\n",
    "warnings.filterwarnings('ignore')"
   ]
  },
  {
   "cell_type": "code",
   "execution_count": 107,
   "id": "63a05e1c",
   "metadata": {},
   "outputs": [],
   "source": [
    "train_data = pd.read_csv('fraudTrain.csv')\n",
    "test_data = pd.read_csv('fraudTest.csv')"
   ]
  },
  {
   "cell_type": "code",
   "execution_count": 108,
   "id": "b269002d",
   "metadata": {},
   "outputs": [
    {
     "name": "stdout",
     "output_type": "stream",
     "text": [
      "Training Data Shape: (1296675, 23)\n",
      "Fraud Cases in Train: 7506\n",
      "Legitimate Cases in Train: 1289169\n",
      "\n",
      "Test Data Shape: (555719, 23)\n"
     ]
    }
   ],
   "source": [
    "print(\"Training Data Shape:\", train_data.shape)\n",
    "print(\"Fraud Cases in Train:\", len(train_data[train_data['is_fraud'] == 1]))\n",
    "print(\"Legitimate Cases in Train:\", len(train_data[train_data['is_fraud'] == 0]))\n",
    "print(\"\\nTest Data Shape:\", test_data.shape)"
   ]
  },
  {
   "cell_type": "code",
   "execution_count": 109,
   "id": "20a9fe71",
   "metadata": {},
   "outputs": [
    {
     "data": {
      "text/html": [
       "<div>\n",
       "<style scoped>\n",
       "    .dataframe tbody tr th:only-of-type {\n",
       "        vertical-align: middle;\n",
       "    }\n",
       "\n",
       "    .dataframe tbody tr th {\n",
       "        vertical-align: top;\n",
       "    }\n",
       "\n",
       "    .dataframe thead th {\n",
       "        text-align: right;\n",
       "    }\n",
       "</style>\n",
       "<table border=\"1\" class=\"dataframe\">\n",
       "  <thead>\n",
       "    <tr style=\"text-align: right;\">\n",
       "      <th></th>\n",
       "      <th>Unnamed: 0</th>\n",
       "      <th>trans_date_trans_time</th>\n",
       "      <th>cc_num</th>\n",
       "      <th>merchant</th>\n",
       "      <th>category</th>\n",
       "      <th>amt</th>\n",
       "      <th>first</th>\n",
       "      <th>last</th>\n",
       "      <th>gender</th>\n",
       "      <th>street</th>\n",
       "      <th>city</th>\n",
       "      <th>state</th>\n",
       "      <th>zip</th>\n",
       "      <th>lat</th>\n",
       "      <th>long</th>\n",
       "      <th>city_pop</th>\n",
       "      <th>job</th>\n",
       "      <th>dob</th>\n",
       "      <th>trans_num</th>\n",
       "      <th>unix_time</th>\n",
       "      <th>merch_lat</th>\n",
       "      <th>merch_long</th>\n",
       "      <th>is_fraud</th>\n",
       "    </tr>\n",
       "  </thead>\n",
       "  <tbody>\n",
       "    <tr>\n",
       "      <th>0</th>\n",
       "      <td>0</td>\n",
       "      <td>2019-01-01 00:00:18</td>\n",
       "      <td>2703186189652095</td>\n",
       "      <td>fraud_Rippin, Kub and Mann</td>\n",
       "      <td>misc_net</td>\n",
       "      <td>4.97</td>\n",
       "      <td>Jennifer</td>\n",
       "      <td>Banks</td>\n",
       "      <td>F</td>\n",
       "      <td>561 Perry Cove</td>\n",
       "      <td>Moravian Falls</td>\n",
       "      <td>NC</td>\n",
       "      <td>28654</td>\n",
       "      <td>36.0788</td>\n",
       "      <td>-81.1781</td>\n",
       "      <td>3495</td>\n",
       "      <td>Psychologist, counselling</td>\n",
       "      <td>1988-03-09</td>\n",
       "      <td>0b242abb623afc578575680df30655b9</td>\n",
       "      <td>1325376018</td>\n",
       "      <td>36.011293</td>\n",
       "      <td>-82.048315</td>\n",
       "      <td>0</td>\n",
       "    </tr>\n",
       "    <tr>\n",
       "      <th>1</th>\n",
       "      <td>1</td>\n",
       "      <td>2019-01-01 00:00:44</td>\n",
       "      <td>630423337322</td>\n",
       "      <td>fraud_Heller, Gutmann and Zieme</td>\n",
       "      <td>grocery_pos</td>\n",
       "      <td>107.23</td>\n",
       "      <td>Stephanie</td>\n",
       "      <td>Gill</td>\n",
       "      <td>F</td>\n",
       "      <td>43039 Riley Greens Suite 393</td>\n",
       "      <td>Orient</td>\n",
       "      <td>WA</td>\n",
       "      <td>99160</td>\n",
       "      <td>48.8878</td>\n",
       "      <td>-118.2105</td>\n",
       "      <td>149</td>\n",
       "      <td>Special educational needs teacher</td>\n",
       "      <td>1978-06-21</td>\n",
       "      <td>1f76529f8574734946361c461b024d99</td>\n",
       "      <td>1325376044</td>\n",
       "      <td>49.159047</td>\n",
       "      <td>-118.186462</td>\n",
       "      <td>0</td>\n",
       "    </tr>\n",
       "    <tr>\n",
       "      <th>2</th>\n",
       "      <td>2</td>\n",
       "      <td>2019-01-01 00:00:51</td>\n",
       "      <td>38859492057661</td>\n",
       "      <td>fraud_Lind-Buckridge</td>\n",
       "      <td>entertainment</td>\n",
       "      <td>220.11</td>\n",
       "      <td>Edward</td>\n",
       "      <td>Sanchez</td>\n",
       "      <td>M</td>\n",
       "      <td>594 White Dale Suite 530</td>\n",
       "      <td>Malad City</td>\n",
       "      <td>ID</td>\n",
       "      <td>83252</td>\n",
       "      <td>42.1808</td>\n",
       "      <td>-112.2620</td>\n",
       "      <td>4154</td>\n",
       "      <td>Nature conservation officer</td>\n",
       "      <td>1962-01-19</td>\n",
       "      <td>a1a22d70485983eac12b5b88dad1cf95</td>\n",
       "      <td>1325376051</td>\n",
       "      <td>43.150704</td>\n",
       "      <td>-112.154481</td>\n",
       "      <td>0</td>\n",
       "    </tr>\n",
       "    <tr>\n",
       "      <th>3</th>\n",
       "      <td>3</td>\n",
       "      <td>2019-01-01 00:01:16</td>\n",
       "      <td>3534093764340240</td>\n",
       "      <td>fraud_Kutch, Hermiston and Farrell</td>\n",
       "      <td>gas_transport</td>\n",
       "      <td>45.00</td>\n",
       "      <td>Jeremy</td>\n",
       "      <td>White</td>\n",
       "      <td>M</td>\n",
       "      <td>9443 Cynthia Court Apt. 038</td>\n",
       "      <td>Boulder</td>\n",
       "      <td>MT</td>\n",
       "      <td>59632</td>\n",
       "      <td>46.2306</td>\n",
       "      <td>-112.1138</td>\n",
       "      <td>1939</td>\n",
       "      <td>Patent attorney</td>\n",
       "      <td>1967-01-12</td>\n",
       "      <td>6b849c168bdad6f867558c3793159a81</td>\n",
       "      <td>1325376076</td>\n",
       "      <td>47.034331</td>\n",
       "      <td>-112.561071</td>\n",
       "      <td>0</td>\n",
       "    </tr>\n",
       "    <tr>\n",
       "      <th>4</th>\n",
       "      <td>4</td>\n",
       "      <td>2019-01-01 00:03:06</td>\n",
       "      <td>375534208663984</td>\n",
       "      <td>fraud_Keeling-Crist</td>\n",
       "      <td>misc_pos</td>\n",
       "      <td>41.96</td>\n",
       "      <td>Tyler</td>\n",
       "      <td>Garcia</td>\n",
       "      <td>M</td>\n",
       "      <td>408 Bradley Rest</td>\n",
       "      <td>Doe Hill</td>\n",
       "      <td>VA</td>\n",
       "      <td>24433</td>\n",
       "      <td>38.4207</td>\n",
       "      <td>-79.4629</td>\n",
       "      <td>99</td>\n",
       "      <td>Dance movement psychotherapist</td>\n",
       "      <td>1986-03-28</td>\n",
       "      <td>a41d7549acf90789359a9aa5346dcb46</td>\n",
       "      <td>1325376186</td>\n",
       "      <td>38.674999</td>\n",
       "      <td>-78.632459</td>\n",
       "      <td>0</td>\n",
       "    </tr>\n",
       "  </tbody>\n",
       "</table>\n",
       "</div>"
      ],
      "text/plain": [
       "   Unnamed: 0 trans_date_trans_time  ...  merch_long is_fraud\n",
       "0           0   2019-01-01 00:00:18  ...  -82.048315        0\n",
       "1           1   2019-01-01 00:00:44  ... -118.186462        0\n",
       "2           2   2019-01-01 00:00:51  ... -112.154481        0\n",
       "3           3   2019-01-01 00:01:16  ... -112.561071        0\n",
       "4           4   2019-01-01 00:03:06  ...  -78.632459        0\n",
       "\n",
       "[5 rows x 23 columns]"
      ]
     },
     "execution_count": 109,
     "metadata": {},
     "output_type": "execute_result"
    }
   ],
   "source": [
    "train_data.head()"
   ]
  },
  {
   "cell_type": "code",
   "execution_count": 110,
   "id": "027dad43",
   "metadata": {},
   "outputs": [],
   "source": [
    "train_data['trans_date_trans_time'] = pd.to_datetime(train_data['trans_date_trans_time'])\n",
    "test_data['trans_date_trans_time'] = pd.to_datetime(test_data['trans_date_trans_time'])"
   ]
  },
  {
   "cell_type": "code",
   "execution_count": 111,
   "id": "f7156c74",
   "metadata": {},
   "outputs": [],
   "source": [
    "train_data['trans_hour'] = train_data['trans_date_trans_time'].dt.hour\n",
    "train_data['trans_day_of_week'] = train_data['trans_date_trans_time'].dt.dayofweek\n",
    "test_data['trans_hour'] = test_data['trans_date_trans_time'].dt.hour\n",
    "test_data['trans_day_of_week'] = test_data['trans_date_trans_time'].dt.dayofweek"
   ]
  },
  {
   "cell_type": "code",
   "execution_count": 112,
   "id": "1b91e889",
   "metadata": {},
   "outputs": [],
   "source": [
    "train_data = train_data.drop(columns=['trans_date_trans_time'])\n",
    "test_data = test_data.drop(columns=['trans_date_trans_time'])"
   ]
  },
  {
   "cell_type": "code",
   "execution_count": 113,
   "id": "cf67cbd3",
   "metadata": {},
   "outputs": [
    {
     "data": {
      "text/plain": [
       "['label_encoders.pkl']"
      ]
     },
     "execution_count": 113,
     "metadata": {},
     "output_type": "execute_result"
    }
   ],
   "source": [
    "import joblib\n",
    "from sklearn.preprocessing import LabelEncoder\n",
    "import numpy as np\n",
    "\n",
    "categorical_cols = ['merchant', 'category', 'gender', 'city', 'state', 'job']\n",
    "encoders = {}\n",
    "\n",
    "for col in categorical_cols:\n",
    "    le = LabelEncoder()\n",
    "    train_data[col] = le.fit_transform(train_data[col])\n",
    "    \n",
    "    # Handle unknowns in test set\n",
    "    test_data[col] = test_data[col].map(lambda s: '<unknown>' if s not in le.classes_ else s)\n",
    "    le.classes_ = np.append(le.classes_, '<unknown>')\n",
    "    test_data[col] = le.transform(test_data[col])\n",
    "    \n",
    "    # Save encoder\n",
    "    encoders[col] = le\n",
    "\n",
    "# Save all encoders together\n",
    "joblib.dump(encoders, 'label_encoders.pkl')\n"
   ]
  },
  {
   "cell_type": "code",
   "execution_count": 114,
   "id": "403b79f9",
   "metadata": {},
   "outputs": [],
   "source": [
    "columns_to_drop = ['trans_num', 'first', 'last', 'street', 'dob', 'Unnamed: 0']\n",
    "train_data = train_data.drop(columns=[col for col in columns_to_drop if col in train_data.columns])\n",
    "test_data = test_data.drop(columns=[col for col in columns_to_drop if col in test_data.columns])"
   ]
  },
  {
   "cell_type": "code",
   "execution_count": 115,
   "id": "54719682",
   "metadata": {},
   "outputs": [
    {
     "data": {
      "text/plain": [
       "cc_num               0\n",
       "merchant             0\n",
       "category             0\n",
       "amt                  0\n",
       "gender               0\n",
       "city                 0\n",
       "state                0\n",
       "zip                  0\n",
       "lat                  0\n",
       "long                 0\n",
       "city_pop             0\n",
       "job                  0\n",
       "unix_time            0\n",
       "merch_lat            0\n",
       "merch_long           0\n",
       "is_fraud             0\n",
       "trans_hour           0\n",
       "trans_day_of_week    0\n",
       "dtype: int64"
      ]
     },
     "execution_count": 115,
     "metadata": {},
     "output_type": "execute_result"
    }
   ],
   "source": [
    "train_data.isnull().sum()\n",
    "test_data.isnull().sum()"
   ]
  },
  {
   "cell_type": "code",
   "execution_count": 116,
   "id": "345cf751",
   "metadata": {},
   "outputs": [
    {
     "data": {
      "text/plain": [
       "set()"
      ]
     },
     "execution_count": 116,
     "metadata": {},
     "output_type": "execute_result"
    }
   ],
   "source": [
    "missing_cols = set(train_data.columns) - set(test_data.columns)\n",
    "missing_cols"
   ]
  },
  {
   "cell_type": "code",
   "execution_count": 117,
   "id": "305e16ba",
   "metadata": {},
   "outputs": [],
   "source": [
    "X_train = train_data.drop('is_fraud', axis=1)\n",
    "y_train = train_data['is_fraud']\n",
    "X_test = test_data.drop('is_fraud', axis=1)\n",
    "y_test = test_data['is_fraud']"
   ]
  },
  {
   "cell_type": "code",
   "execution_count": 118,
   "id": "58f34fca",
   "metadata": {},
   "outputs": [
    {
     "name": "stdout",
     "output_type": "stream",
     "text": [
      "Features after preprocessing: ['cc_num', 'merchant', 'category', 'amt', 'gender', 'city', 'state', 'zip', 'lat', 'long', 'city_pop', 'job', 'unix_time', 'merch_lat', 'merch_long', 'trans_hour', 'trans_day_of_week']\n"
     ]
    }
   ],
   "source": [
    "print(\"Features after preprocessing:\", X_train.columns.tolist())"
   ]
  },
  {
   "cell_type": "code",
   "execution_count": 119,
   "id": "5261f0b8",
   "metadata": {},
   "outputs": [],
   "source": [
    "scaler = StandardScaler()\n",
    "X_train_scaled = scaler.fit_transform(X_train)\n",
    "X_test_scaled = scaler.transform(X_test)"
   ]
  },
  {
   "cell_type": "code",
   "execution_count": 120,
   "id": "0ee839ab",
   "metadata": {},
   "outputs": [
    {
     "data": {
      "text/plain": [
       "['scaler.pkl']"
      ]
     },
     "execution_count": 120,
     "metadata": {},
     "output_type": "execute_result"
    }
   ],
   "source": [
    "joblib.dump(scaler, 'scaler.pkl')\n"
   ]
  },
  {
   "cell_type": "code",
   "execution_count": 121,
   "id": "16ed5b25",
   "metadata": {},
   "outputs": [],
   "source": [
    "smote = SMOTE(sampling_strategy=0.1, random_state=42)  \n",
    "X_train_res, y_train_res = smote.fit_resample(X_train_scaled, y_train)"
   ]
  },
  {
   "cell_type": "code",
   "execution_count": 122,
   "id": "06147b8b",
   "metadata": {},
   "outputs": [
    {
     "name": "stdout",
     "output_type": "stream",
     "text": [
      "Shape of resampled training data: (1418085, 17)\n"
     ]
    }
   ],
   "source": [
    "print(\"Shape of resampled training data:\", X_train_res.shape)"
   ]
  },
  {
   "cell_type": "code",
   "execution_count": 123,
   "id": "4e75f2da",
   "metadata": {},
   "outputs": [],
   "source": [
    "models = {\n",
    "    'Logistic Regression': LogisticRegression(max_iter=1000, random_state=42, n_jobs=1),\n",
    "    'Decision Tree': DecisionTreeClassifier(random_state=42),\n",
    "    'Random Forest': RandomForestClassifier(n_estimators=50, random_state=42, n_jobs=1) \n",
    "}"
   ]
  },
  {
   "cell_type": "code",
   "execution_count": 124,
   "id": "c9195681",
   "metadata": {},
   "outputs": [
    {
     "name": "stdout",
     "output_type": "stream",
     "text": [
      "\n",
      "Training Logistic Regression...\n",
      "\n",
      "Results for Logistic Regression:\n",
      "Confusion Matrix:\n",
      "[[550528   3046]\n",
      " [  1100   1045]]\n",
      "\n",
      "Classification Report:\n",
      "              precision    recall  f1-score   support\n",
      "\n",
      "           0       1.00      0.99      1.00    553574\n",
      "           1       0.26      0.49      0.34      2145\n",
      "\n",
      "    accuracy                           0.99    555719\n",
      "   macro avg       0.63      0.74      0.67    555719\n",
      "weighted avg       1.00      0.99      0.99    555719\n",
      "\n",
      "ROC AUC Score: 0.7408385305631203\n",
      "Model saved as Logistic Regression_model.pkl\n",
      "\n",
      "Training Decision Tree...\n",
      "\n",
      "Results for Decision Tree:\n",
      "Confusion Matrix:\n",
      "[[549654   3920]\n",
      " [   742   1403]]\n",
      "\n",
      "Classification Report:\n",
      "              precision    recall  f1-score   support\n",
      "\n",
      "           0       1.00      0.99      1.00    553574\n",
      "           1       0.26      0.65      0.38      2145\n",
      "\n",
      "    accuracy                           0.99    555719\n",
      "   macro avg       0.63      0.82      0.69    555719\n",
      "weighted avg       1.00      0.99      0.99    555719\n",
      "\n",
      "ROC AUC Score: 0.8234989983251281\n",
      "Model saved as Decision Tree_model.pkl\n",
      "\n",
      "Training Random Forest...\n",
      "\n",
      "Results for Random Forest:\n",
      "Confusion Matrix:\n",
      "[[553312    262]\n",
      " [   750   1395]]\n",
      "\n",
      "Classification Report:\n",
      "              precision    recall  f1-score   support\n",
      "\n",
      "           0       1.00      1.00      1.00    553574\n",
      "           1       0.84      0.65      0.73      2145\n",
      "\n",
      "    accuracy                           1.00    555719\n",
      "   macro avg       0.92      0.82      0.87    555719\n",
      "weighted avg       1.00      1.00      1.00    555719\n",
      "\n",
      "ROC AUC Score: 0.8249381811127847\n",
      "Model saved as Random Forest_model.pkl\n"
     ]
    }
   ],
   "source": [
    "import joblib\n",
    "from sklearn.metrics import confusion_matrix, classification_report, roc_auc_score\n",
    "\n",
    "for name, model in models.items():\n",
    "    print(f\"\\nTraining {name}...\")\n",
    "    model.fit(X_train_res, y_train_res)\n",
    "    y_pred = model.predict(X_test_scaled)\n",
    "    \n",
    "    print(f\"\\nResults for {name}:\")\n",
    "    print(\"Confusion Matrix:\")\n",
    "    print(confusion_matrix(y_test, y_pred))\n",
    "    print(\"\\nClassification Report:\")\n",
    "    print(classification_report(y_test, y_pred))\n",
    "    print(\"ROC AUC Score:\", roc_auc_score(y_test, y_pred))\n",
    "    \n",
    "    # Save model\n",
    "    joblib.dump(model, f\"{name}_model.pkl\")\n",
    "    print(f\"Model saved as {name}_model.pkl\")\n"
   ]
  },
  {
   "cell_type": "code",
   "execution_count": 125,
   "id": "f2ffb690",
   "metadata": {},
   "outputs": [
    {
     "name": "stdout",
     "output_type": "stream",
     "text": [
      "Confusion Matrix:\n",
      " [[553070    504]\n",
      " [   922   1223]]\n",
      "\n",
      "Classification Report:\n",
      "               precision    recall  f1-score   support\n",
      "\n",
      "           0       1.00      1.00      1.00    553574\n",
      "           1       0.71      0.57      0.63      2145\n",
      "\n",
      "    accuracy                           1.00    555719\n",
      "   macro avg       0.85      0.78      0.82    555719\n",
      "weighted avg       1.00      1.00      1.00    555719\n",
      "\n",
      "\n",
      "ROC AUC Score: 0.9734340341634036\n"
     ]
    }
   ],
   "source": [
    "import xgboost as xgb\n",
    "from sklearn.metrics import confusion_matrix, classification_report, roc_auc_score\n",
    "\n",
    "# X_train, y_train are already SMOTE-balanced\n",
    "xgb_model = xgb.XGBClassifier(use_label_encoder=False, eval_metric='logloss')\n",
    "xgb_model.fit(X_train, y_train)\n",
    "\n",
    "y_pred = xgb_model.predict(X_test)\n",
    "y_prob = xgb_model.predict_proba(X_test)[:, 1]\n",
    "\n",
    "print(\"Confusion Matrix:\\n\", confusion_matrix(y_test, y_pred))\n",
    "print(\"\\nClassification Report:\\n\", classification_report(y_test, y_pred))\n",
    "print(\"\\nROC AUC Score:\", roc_auc_score(y_test, y_prob))\n"
   ]
  },
  {
   "cell_type": "code",
   "execution_count": 126,
   "id": "9420967a",
   "metadata": {},
   "outputs": [
    {
     "data": {
      "text/plain": [
       "['xgboost_model.pkl']"
      ]
     },
     "execution_count": 126,
     "metadata": {},
     "output_type": "execute_result"
    }
   ],
   "source": [
    "import joblib\n",
    "\n",
    "# Save model\n",
    "joblib.dump(xgb_model, 'xgboost_model.pkl')\n",
    "\n"
   ]
  },
  {
   "cell_type": "code",
   "execution_count": null,
   "id": "55ca27b2",
   "metadata": {},
   "outputs": [
    {
     "name": "stdout",
     "output_type": "stream",
     "text": [
      "\n",
      "Enter Transaction Details:\n",
      "\n",
      "\n",
      "Logistic Regression Prediction: Legitimate\n",
      "Logistic Regression Probability of Fraud: 0.0000\n",
      "\n",
      "Decision Tree Prediction: Legitimate\n",
      "Decision Tree Probability of Fraud: 0.0000\n",
      "\n",
      "Random Forest Prediction: Legitimate\n",
      "Random Forest Probability of Fraud: 0.2000\n",
      "\n",
      "XGBoost Prediction: Legitimate\n",
      "XGBoost Probability of Fraud: 0.0143\n"
     ]
    }
   ],
   "source": [
    "import streamlit as st\n",
    "import joblib\n",
    "import pandas as pd\n",
    "import numpy as np\n",
    "from datetime import datetime\n",
    "\n",
    "# ---------------- Page Configuration ----------------\n",
    "st.set_page_config(\n",
    "    page_title=\"🛡️ Fraud Detection CLI Interface → Web App\",\n",
    "    page_icon=\"🛡️\",\n",
    "    layout=\"wide\",\n",
    "    initial_sidebar_state=\"expanded\"\n",
    ")\n",
    "\n",
    "# ---------------- Custom CSS Styling ----------------\n",
    "st.markdown(\"\"\"\n",
    "<style>\n",
    "    body {\n",
    "        font-family: 'Segoe UI', Tahoma, Geneva, Verdana, sans-serif;\n",
    "        background: linear-gradient(135deg, #0f2027, #203a43, #2c5364);\n",
    "        color: white;\n",
    "    }\n",
    "    .stApp {\n",
    "        background: transparent;\n",
    "    }\n",
    "    .big-title {\n",
    "        font-size: 3rem;\n",
    "        font-weight: 800;\n",
    "        text-align: center;\n",
    "        margin-bottom: 10px;\n",
    "        color: #ffffff;\n",
    "        background: linear-gradient(90deg, #00c9ff, #92fe9d);\n",
    "        -webkit-background-clip: text;\n",
    "        -webkit-text-fill-color: transparent;\n",
    "    }\n",
    "    .subtitle {\n",
    "        text-align: center;\n",
    "        font-size: 1.3rem;\n",
    "        margin-bottom: 30px;\n",
    "        color: rgba(255,255,255,0.7);\n",
    "    }\n",
    "    .stForm, .stSelectbox, .stNumberInput, .stTextInput, .stSlider {\n",
    "        background-color: #ffffff0a !important;\n",
    "        border-radius: 12px !important;\n",
    "    }\n",
    "    .stButton>button {\n",
    "        background: linear-gradient(45deg, #00c9ff, #92fe9d);\n",
    "        color: black;\n",
    "        border: none;\n",
    "        border-radius: 10px;\n",
    "        font-weight: 700;\n",
    "        font-size: 1.1rem;\n",
    "        padding: 0.75rem 2rem;\n",
    "        transition: 0.3s ease;\n",
    "    }\n",
    "    .stButton>button:hover {\n",
    "        transform: scale(1.03);\n",
    "        box-shadow: 0px 0px 15px rgba(0, 201, 255, 0.5);\n",
    "    }\n",
    "    .prediction-box {\n",
    "        background: rgba(255,255,255,0.1);\n",
    "        border-left: 6px solid #00c9ff;\n",
    "        padding: 1rem;\n",
    "        border-radius: 10px;\n",
    "        margin-bottom: 1rem;\n",
    "        color: white;\n",
    "    }\n",
    "</style>\n",
    "\"\"\", unsafe_allow_html=True)\n",
    "\n",
    "# ---------------- Load Models and Encoders ----------------\n",
    "@st.cache_resource\n",
    "def load_artifacts():\n",
    "    scaler = joblib.load('scaler.pkl')\n",
    "    encoders = joblib.load('label_encoders.pkl')\n",
    "    models = {\n",
    "        'Logistic Regression': joblib.load('Logistic Regression_model.pkl'),\n",
    "        'Decision Tree': joblib.load('Decision Tree_model.pkl'),\n",
    "        'Random Forest': joblib.load('Random Forest_model.pkl'),\n",
    "        'XGBoost': joblib.load('xgboost_model.pkl')\n",
    "    }\n",
    "    return scaler, encoders, models\n",
    "\n",
    "scaler, encoders, models = load_artifacts()\n",
    "\n",
    "feature_order = [\n",
    "    'cc_num', 'merchant', 'category', 'amt', 'gender', 'city', 'state', 'zip', 'lat', 'long',\n",
    "    'city_pop', 'job', 'unix_time', 'merch_lat', 'merch_long', 'trans_hour', 'trans_day_of_week'\n",
    "]\n",
    "\n",
    "categorical_cols = ['merchant', 'category', 'gender', 'city', 'state', 'job']\n",
    "\n",
    "# ---------------- Streamlit Layout ----------------\n",
    "st.markdown('<div class=\"big-title\">🛡️ Fraud Detection System</div>', unsafe_allow_html=True)\n",
    "st.markdown('<div class=\"subtitle\">Transforming CLI logic into a Billion-Dollar UI</div>', unsafe_allow_html=True)\n",
    "\n",
    "with st.form(\"fraud_form\"):\n",
    "    col1, col2 = st.columns(2)\n",
    "\n",
    "    with col1:\n",
    "        cc_num = st.number_input(\"💳 Credit Card Number\", value=123456789.0)\n",
    "        amt = st.number_input(\"💰 Transaction Amount\", value=100.0)\n",
    "        zip_code = st.number_input(\"📮 ZIP Code\", value=10001.0)\n",
    "        lat = st.number_input(\"🌐 Latitude\", value=40.0)\n",
    "        long = st.number_input(\"🌐 Longitude\", value=-75.0)\n",
    "        city_pop = st.number_input(\"🏙️ City Population\", value=8500000.0)\n",
    "\n",
    "    with col2:\n",
    "        unix_time = st.number_input(\"🕒 Unix Timestamp\", value=float(datetime.now().timestamp()))\n",
    "        merch_lat = st.number_input(\"🏪 Merchant Latitude\", value=40.0)\n",
    "        merch_long = st.number_input(\"🏪 Merchant Longitude\", value=-75.0)\n",
    "        trans_hour = st.slider(\"⏰ Transaction Hour\", 0, 23, 12)\n",
    "        trans_day = st.slider(\"📅 Day of Week\", 0, 6, 3)\n",
    "\n",
    "    st.markdown(\"### 🧠 Enter Categorical Values\")\n",
    "    merchant = st.text_input(\"Merchant\", value=\"fraud_Rippin, Kub and Mann\")\n",
    "    category = st.selectbox(\"Category\", encoders['category'].classes_.tolist())\n",
    "    gender = st.selectbox(\"Gender\", encoders['gender'].classes_.tolist())\n",
    "    city = st.text_input(\"City\", value=\"New York\")\n",
    "    state = st.selectbox(\"State\", encoders['state'].classes_.tolist())\n",
    "    job = st.selectbox(\"Job\", encoders['job'].classes_.tolist())\n",
    "\n",
    "    submit = st.form_submit_button(\"🔍 Predict\")\n",
    "\n",
    "if submit:\n",
    "    try:\n",
    "        sample_input = {\n",
    "            'cc_num': cc_num,\n",
    "            'merchant': encoders['merchant'].transform([merchant])[0] if merchant in encoders['merchant'].classes_ else 0,\n",
    "            'category': encoders['category'].transform([category])[0],\n",
    "            'amt': amt,\n",
    "            'gender': encoders['gender'].transform([gender])[0],\n",
    "            'city': encoders['city'].transform([city])[0] if city in encoders['city'].classes_ else 0,\n",
    "            'state': encoders['state'].transform([state])[0],\n",
    "            'zip': zip_code,\n",
    "            'lat': lat,\n",
    "            'long': long,\n",
    "            'city_pop': city_pop,\n",
    "            'job': encoders['job'].transform([job])[0],\n",
    "            'unix_time': unix_time,\n",
    "            'merch_lat': merch_lat,\n",
    "            'merch_long': merch_long,\n",
    "            'trans_hour': trans_hour,\n",
    "            'trans_day_of_week': trans_day\n",
    "        }\n",
    "\n",
    "        input_df = pd.DataFrame([sample_input], columns=feature_order)\n",
    "        input_scaled = scaler.transform(input_df)\n",
    "\n",
    "        st.markdown(\"---\")\n",
    "        st.subheader(\"📊 Model Predictions\")\n",
    "\n",
    "        for name, model in models.items():\n",
    "            pred = model.predict(input_scaled)[0]\n",
    "            prob = model.predict_proba(input_scaled)[0][1]\n",
    "            status = \"🚨 Fraud\" if pred == 1 else \"✅ Legitimate\"\n",
    "            st.markdown(f\"<div class='prediction-box'><strong>{name}:</strong> {status} <br>Probability: {prob:.2%}</div>\", unsafe_allow_html=True)\n",
    "\n",
    "    except Exception as e:\n",
    "        st.error(f\"Prediction failed: {e}\")\n"
   ]
  }
 ],
 "metadata": {
  "kernelspec": {
   "display_name": "Python 3",
   "language": "python",
   "name": "python3"
  },
  "language_info": {
   "codemirror_mode": {
    "name": "ipython",
    "version": 3
   },
   "file_extension": ".py",
   "mimetype": "text/x-python",
   "name": "python",
   "nbconvert_exporter": "python",
   "pygments_lexer": "ipython3",
   "version": "3.12.10"
  }
 },
 "nbformat": 4,
 "nbformat_minor": 5
}
